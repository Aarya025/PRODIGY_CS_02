{
 "cells": [
  {
   "cell_type": "code",
   "execution_count": null,
   "id": "7a2f622b-ded4-4f25-948b-1ab1936eebcb",
   "metadata": {},
   "outputs": [
    {
     "name": "stdout",
     "output_type": "stream",
     "text": [
      "Welcome to the Image Encryption/Decryption Tool!\n"
     ]
    },
    {
     "name": "stdin",
     "output_type": "stream",
     "text": [
      "Enter the path of the image file:  Pictures/Screenshots/my_pic.png\n",
      "Enter the encryption/decryption key (integer):  3\n"
     ]
    },
    {
     "name": "stdout",
     "output_type": "stream",
     "text": [
      "Choose the format to save the image:\n",
      "1. PNG\n",
      "2. JPEG\n",
      "3. BMP\n",
      "4. TIFF\n"
     ]
    },
    {
     "name": "stdin",
     "output_type": "stream",
     "text": [
      "Enter the number corresponding to your choice (1-4):  1\n",
      "Do you want to (e)ncrypt or (d)ecrypt the image? Enter 'e' or 'd':  e\n"
     ]
    }
   ],
   "source": [
    "# image encryption tool using pixel manipulation. \n",
    "from PIL import Image  # imports image file from Pillow library\n",
    "\n",
    "def encrypt_image(image_path, key, save_format):  \n",
    "    with Image.open(image_path) as img:  \n",
    "        pixels = img.load()  # Load image pixels\n",
    "        width, height = img.size\n",
    "\n",
    "        # Check if the image is RGB, RGBA, or grayscale\n",
    "        for i in range(width):\n",
    "            for j in range(height):\n",
    "                pixel_values = pixels[i, j]\n",
    "\n",
    "                if isinstance(pixel_values, int):  # For grayscale images (a single int per pixel)\n",
    "                    # Encrypt by adding the key and applying modulo\n",
    "                    pixels[i, j] = (pixel_values + key) % 256\n",
    "\n",
    "                elif len(pixel_values) == 3:  # RGB image (3 values per pixel)\n",
    "                    r, g, b = pixel_values\n",
    "                    pixels[i, j] = ((r + key) % 256, (g + key) % 256, (b + key) % 256)\n",
    "\n",
    "                elif len(pixel_values) == 4:  # RGBA image (r,g,b values are encrypted, alpha channel is left unchanged)\n",
    "                    r, g, b, a = pixel_values\n",
    "                    pixels[i, j] = ((r + key) % 256, (g + key) % 256, (b + key) % 256, a)  # Keep alpha unchanged\n",
    "\n",
    "        encrypted_image_path = f'encrypted_image.{save_format.lower()}'\n",
    "        img.save(encrypted_image_path, format=save_format.upper())  \n",
    "        print(f\"Image encrypted & saved as {encrypted_image_path}\")\n",
    "\n",
    "def decrypt_image(encrypted_image_path, key, save_format):  \n",
    "    with Image.open(encrypted_image_path) as img:  \n",
    "        pixels = img.load()\n",
    "        width, height = img.size\n",
    "\n",
    "        for i in range(width):\n",
    "            for j in range(height):\n",
    "                pixel_values = pixels[i, j]\n",
    "\n",
    "                if isinstance(pixel_values, int):  # For grayscale images\n",
    "                    # Decrypt by subtracting the key and applying modulo\n",
    "                    pixels[i, j] = (pixel_values - key) % 256\n",
    "\n",
    "                elif len(pixel_values) == 3:  # RGB image\n",
    "                    r, g, b = pixel_values\n",
    "                    pixels[i, j] = ((r - key) % 256, (g - key) % 256, (b - key) % 256)\n",
    "\n",
    "                elif len(pixel_values) == 4:  # RGBA image (with alpha channel)\n",
    "                    r, g, b, a = pixel_values\n",
    "                    pixels[i, j] = ((r - key) % 256, (g - key) % 256, (b - key) % 256, a)  # Keep alpha unchanged\n",
    "\n",
    "        decrypted_image_path = f'decrypted_image.{save_format.lower()}'\n",
    "        img.save(decrypted_image_path, format=save_format.upper())  \n",
    "        print(f\"Image decrypted & saved as {decrypted_image_path}\")\n",
    "\n",
    "# Main function to handle user input\n",
    "def main():\n",
    "    print(\"Welcome to the Image Encryption/Decryption Tool!\")\n",
    "    \n",
    "    # Ask the user for the image path\n",
    "    image_path = input(\"Enter the path of the image file: \")\n",
    "    \n",
    "    # Ask the user for the encryption/decryption key\n",
    "    key = int(input(\"Enter the encryption/decryption key (integer): \"))\n",
    "    \n",
    "    # Ask the user for the desired image file format\n",
    "    print(\"Choose the format to save the image:\")\n",
    "    print(\"1. PNG\")\n",
    "    print(\"2. JPEG\")\n",
    "    print(\"3. BMP\")\n",
    "    print(\"4. TIFF\")\n",
    "    format_choice = input(\"Enter the number corresponding to your choice (1-4): \")\n",
    "    \n",
    "    # Map user input to file format\n",
    "    format_options = {\n",
    "        '1': 'PNG',\n",
    "        '2': 'JPEG',\n",
    "        '3': 'BMP',\n",
    "        '4': 'TIFF'\n",
    "    }\n",
    "    save_format = format_options.get(format_choice, 'PNG')  # Default to PNG if invalid choice\n",
    "    \n",
    "    # Ask the user whether to encrypt or decrypt\n",
    "    operation = input(\"Do you want to (e)ncrypt or (d)ecrypt the image? Enter 'e' or 'd': \").lower()\n",
    "    \n",
    "    if operation == 'e':\n",
    "        encrypt_image(image_path, key, save_format)\n",
    "    elif operation == 'd':\n",
    "        decrypt_image(image_path, key, save_format)\n",
    "    else:\n",
    "        print(\"Invalid option. Please choose 'e' to encrypt or 'd' to decrypt.\")\n",
    "\n",
    "if __name__ == \"__main__\":\n",
    "    main()\n"
   ]
  },
  {
   "cell_type": "code",
   "execution_count": null,
   "id": "6ca73e2e-721f-4c62-82bb-f68488513cbd",
   "metadata": {},
   "outputs": [],
   "source": []
  }
 ],
 "metadata": {
  "kernelspec": {
   "display_name": "Python 3 (ipykernel)",
   "language": "python",
   "name": "python3"
  },
  "language_info": {
   "codemirror_mode": {
    "name": "ipython",
    "version": 3
   },
   "file_extension": ".py",
   "mimetype": "text/x-python",
   "name": "python",
   "nbconvert_exporter": "python",
   "pygments_lexer": "ipython3",
   "version": "3.11.7"
  }
 },
 "nbformat": 4,
 "nbformat_minor": 5
}
